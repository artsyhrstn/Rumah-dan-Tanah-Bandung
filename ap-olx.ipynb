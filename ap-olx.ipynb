{
 "cells": [
  {
   "cell_type": "markdown",
   "metadata": {},
   "source": [
    "# 1 Penggunaan API OLX dengan Kordinat di Kota Bandung"
   ]
  },
  {
   "cell_type": "code",
   "execution_count": null,
   "metadata": {},
   "outputs": [],
   "source": [
    "import json\n",
    "import requests"
   ]
  },
  {
   "cell_type": "code",
   "execution_count": null,
   "metadata": {},
   "outputs": [],
   "source": [
    "# Define the base URL\n",
    "base_url = \"https://www.olx.co.id/api/relevance/v4/search\"\n",
    "\n",
    "# Define the parameters\n",
    "params = {\n",
    "    \"category\": 88,\n",
    "    \"facet_limit\": 100,\n",
    "    \"location\": 4000018,\n",
    "    \"location_facet_limit\": 20,\n",
    "    \"platform\": \"web-desktop\",\n",
    "    \"query\": \"tanah\",\n",
    "    \"relaxedFilters\": \"true\",\n",
    "    \"spellcheck\": \"true\",\n",
    "    \"user\": \"194a7fa6fabx1832b0a7\"\n",
    "}\n",
    "\n",
    "# Make the GET request\n",
    "response = requests.get(base_url, params=params)\n",
    "\n",
    "# Print the response\n",
    "print(response.json())"
   ]
  },
  {
   "cell_type": "code",
   "execution_count": null,
   "metadata": {},
   "outputs": [],
   "source": [
    "# save response.json to data folder\n",
    "with open('data/olx.json', 'w') as f:\n",
    "    json.dump(response\n",
    "                .json(), f)"
   ]
  }
 ],
 "metadata": {
  "kernelspec": {
   "display_name": "Python 3",
   "language": "python",
   "name": "python3"
  },
  "language_info": {
   "codemirror_mode": {
    "name": "ipython",
    "version": 3
   },
   "file_extension": ".py",
   "mimetype": "text/x-python",
   "name": "python",
   "nbconvert_exporter": "python",
   "pygments_lexer": "ipython3",
   "version": "3.12.9"
  }
 },
 "nbformat": 4,
 "nbformat_minor": 2
}
